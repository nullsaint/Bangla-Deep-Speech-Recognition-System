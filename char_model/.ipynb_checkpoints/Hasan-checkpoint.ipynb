{
 "cells": [
  {
   "cell_type": "code",
   "execution_count": 5,
   "metadata": {},
   "outputs": [],
   "source": [
    "import argparse\n",
    "import json\n",
    "import os\n",
    "from pathlib import Path\n",
    "import sys\n",
    "from keras.models import Sequential, load_model\n",
    "from keras.layers import LSTM, Dropout, TimeDistributed, Dense, Activation, Embedding\n",
    "import numpy as np\n",
    "\n",
    "from model import build_model, save_weights, load_weights\n",
    "from train import train, read_batches, TrainLogger"
   ]
  },
  {
   "cell_type": "code",
   "execution_count": 6,
   "metadata": {},
   "outputs": [],
   "source": [
    "MODEL_DIR = './model'\n",
    "DATA_DIR = './data'\n",
    "LOG_DIR = './logs'\n",
    "MODEL_DIR = './model'\n",
    "\n",
    "BATCH_SIZE = 100\n",
    "SEQ_LENGTH = 64"
   ]
  },
  {
   "cell_type": "code",
   "execution_count": 7,
   "metadata": {},
   "outputs": [],
   "source": [
    "if not os.path.exists(LOG_DIR):\n",
    "    os.makedirs(LOG_DIR)\n",
    "if not os.path.exists(MODEL_DIR):\n",
    "    os.makedirs(MODEL_DIR)"
   ]
  },
  {
   "cell_type": "code",
   "execution_count": 8,
   "metadata": {
    "scrolled": true
   },
   "outputs": [
    {
     "name": "stdout",
     "output_type": "stream",
     "text": [
      "_________________________________________________________________\n",
      "Layer (type)                 Output Shape              Param #   \n",
      "=================================================================\n",
      "embedding_2 (Embedding)      (1000, 64, 512)           33280     \n",
      "_________________________________________________________________\n",
      "lstm_4 (LSTM)                (1000, 64, 256)           787456    \n",
      "_________________________________________________________________\n",
      "dropout_4 (Dropout)          (1000, 64, 256)           0         \n",
      "_________________________________________________________________\n",
      "lstm_5 (LSTM)                (1000, 64, 256)           525312    \n",
      "_________________________________________________________________\n",
      "dropout_5 (Dropout)          (1000, 64, 256)           0         \n",
      "_________________________________________________________________\n",
      "lstm_6 (LSTM)                (1000, 64, 256)           525312    \n",
      "_________________________________________________________________\n",
      "dropout_6 (Dropout)          (1000, 64, 256)           0         \n",
      "_________________________________________________________________\n",
      "time_distributed_2 (TimeDist (1000, 64, 65)            16705     \n",
      "_________________________________________________________________\n",
      "activation_2 (Activation)    (1000, 64, 65)            0         \n",
      "=================================================================\n",
      "Total params: 1,888,065\n",
      "Trainable params: 1,888,065\n",
      "Non-trainable params: 0\n",
      "_________________________________________________________________\n",
      "\n",
      "Epoch 1/20\n",
      "loss: 4.174474239349365 and accuracy: 0.012609374709427357\n",
      "\n",
      "Epoch 2/20\n",
      "loss: 2.6357407569885254 and accuracy: 0.26225000619888306\n",
      "\n",
      "Epoch 3/20\n",
      "loss: 2.256835699081421 and accuracy: 0.3655624985694885\n",
      "\n",
      "Epoch 4/20\n",
      "loss: 2.0153164863586426 and accuracy: 0.4329531192779541\n",
      "\n",
      "Epoch 5/20\n",
      "loss: 1.8940236568450928 and accuracy: 0.46262499690055847\n",
      "\n",
      "Epoch 6/20\n",
      "loss: 1.8087824583053589 and accuracy: 0.4837343692779541\n",
      "\n",
      "Epoch 7/20\n",
      "loss: 1.7640315294265747 and accuracy: 0.4934687614440918\n",
      "\n",
      "Epoch 8/20\n",
      "loss: 1.7296826839447021 and accuracy: 0.49870312213897705\n",
      "\n",
      "Epoch 9/20\n",
      "loss: 1.6992651224136353 and accuracy: 0.5102656483650208\n",
      "\n",
      "Epoch 10/20\n",
      "Saved checkpoint to weights.10.h5\n",
      "loss: 1.6834932565689087 and accuracy: 0.5089687705039978\n",
      "\n",
      "Epoch 11/20\n",
      "loss: 1.6611937284469604 and accuracy: 0.5178906321525574\n",
      "\n",
      "Epoch 12/20\n",
      "loss: 1.6653251647949219 and accuracy: 0.5171874761581421\n",
      "\n",
      "Epoch 13/20\n",
      "loss: 1.6485432386398315 and accuracy: 0.5217499732971191\n",
      "\n",
      "Epoch 14/20\n",
      "loss: 1.6418184041976929 and accuracy: 0.5229843854904175\n",
      "\n",
      "Epoch 15/20\n",
      "loss: 1.6144894361495972 and accuracy: 0.5290312767028809\n",
      "\n",
      "Epoch 16/20\n",
      "loss: 1.6051989793777466 and accuracy: 0.5299843549728394\n",
      "\n",
      "Epoch 17/20\n",
      "loss: 1.5902076959609985 and accuracy: 0.5356405973434448\n",
      "\n",
      "Epoch 18/20\n",
      "loss: 1.5783047676086426 and accuracy: 0.5390312671661377\n",
      "\n",
      "Epoch 19/20\n",
      "loss: 1.577284812927246 and accuracy: 0.5407187342643738\n",
      "\n",
      "Epoch 20/20\n",
      "Saved checkpoint to weights.20.h5\n",
      "loss: 1.580703854560852 and accuracy: 0.5369531512260437\n"
     ]
    }
   ],
   "source": [
    "with open(os.path.join(DATA_DIR, \"cleandataTrain.txt\"), 'r') as data_file:\n",
    "    text = data_file.read()\n",
    "    train(text, 100, 10, False)"
   ]
  },
  {
   "cell_type": "code",
   "execution_count": null,
   "metadata": {},
   "outputs": [],
   "source": [
    "lo = []"
   ]
  },
  {
   "cell_type": "code",
   "execution_count": null,
   "metadata": {},
   "outputs": [],
   "source": [
    "for i in range(5):\n",
    "    lo.append(i)\n",
    "print(lo[1])"
   ]
  },
  {
   "cell_type": "code",
   "execution_count": null,
   "metadata": {},
   "outputs": [],
   "source": []
  }
 ],
 "metadata": {
  "kernelspec": {
   "display_name": "Python 3",
   "language": "python",
   "name": "python3"
  },
  "language_info": {
   "codemirror_mode": {
    "name": "ipython",
    "version": 3
   },
   "file_extension": ".py",
   "mimetype": "text/x-python",
   "name": "python",
   "nbconvert_exporter": "python",
   "pygments_lexer": "ipython3",
   "version": "3.6.7"
  }
 },
 "nbformat": 4,
 "nbformat_minor": 2
}
